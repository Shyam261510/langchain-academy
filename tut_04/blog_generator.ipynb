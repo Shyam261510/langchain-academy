{
 "cells": [
  {
   "cell_type": "code",
   "execution_count": 212,
   "id": "f939fa24",
   "metadata": {},
   "outputs": [],
   "source": [
    "from langgraph.graph import StateGraph, START,END\n",
    "from langchain_core.messages import SystemMessage, HumanMessage\n",
    "from langchain_google_genai import ChatGoogleGenerativeAI\n",
    "from dotenv import load_dotenv\n",
    "from typing import TypedDict , Annotated,Literal\n",
    "from pydantic import BaseModel , Field\n",
    "import os"
   ]
  },
  {
   "cell_type": "code",
   "execution_count": 213,
   "id": "179b902f",
   "metadata": {},
   "outputs": [],
   "source": [
    "load_dotenv()\n",
    "\n",
    "api_key = os.getenv(\"GOOGLE_API_KEY\")"
   ]
  },
  {
   "cell_type": "code",
   "execution_count": 214,
   "id": "5d7077b5",
   "metadata": {},
   "outputs": [],
   "source": [
    "generator_llm = ChatGoogleGenerativeAI(api_key=api_key,model=\"gemini-2.5-pro\")\n",
    "evaluator_llm = ChatGoogleGenerativeAI(api_key=api_key,model=\"gemini-2.5-flash\")\n",
    "optimizer_llm = ChatGoogleGenerativeAI(api_key=api_key,model=\"gemini-2.5-flash\")"
   ]
  },
  {
   "cell_type": "code",
   "execution_count": 215,
   "id": "8c526f22",
   "metadata": {},
   "outputs": [],
   "source": [
    "class BlogState(TypedDict):\n",
    "    topic:str\n",
    "    blog:str\n",
    "    evalutation:Literal[\"approved\",\"need_improvement\"]\n",
    "    feedback:str\n",
    "    iteration:int\n",
    "    max_iteration:int\n"
   ]
  },
  {
   "cell_type": "code",
   "execution_count": 216,
   "id": "42e8b8b0",
   "metadata": {},
   "outputs": [],
   "source": [
    "class BlogEvaluator(BaseModel):\n",
    "    evaluation:Literal[\"approved\",\"need_improvement\"] = Field(description=\"Final Evaluation of the blog.\")\n",
    "    feedback:str = Field(description=\"Constructive feedback on the blog.\")"
   ]
  },
  {
   "cell_type": "code",
   "execution_count": 217,
   "id": "2a59b8b0",
   "metadata": {},
   "outputs": [],
   "source": [
    "structure_evaluator_model = evaluator_llm.with_structured_output(BlogEvaluator)"
   ]
  },
  {
   "cell_type": "code",
   "execution_count": null,
   "id": "444e790e",
   "metadata": {},
   "outputs": [],
   "source": [
    "def generate_blog(state:BlogState):\n",
    "    topic = state['topic']\n",
    "    \n",
    "    prompt = [SystemMessage(content=\"\"\"\n",
    "\n",
    "    You are a senior AI developer, a seasoned pro with battle-tested experience in full-stack AI development. Your specialties are LangChain and LangGraph, and you know how to wield them to build powerful applications.\n",
    "\n",
    "    Your persona is that of an enthusiastic and slightly quirky teacher. You believe that learning should be fun, not a chore. Your teaching philosophy is simple: learn by doing. Instead of endless theory, you build small, practical mini-projects that get straight to the point and make the concepts stick like super glue.\n",
    "\n",
    "    You're a proud \"blog-gician\" (part blogger, part magician), sharing your knowledge and mini-projects on your blog.\n",
    "\n",
    "    When responding to a user:\n",
    "\n",
    "    Inject humor and personality into your answers.\n",
    "\n",
    "    Simplify complex topics with easy-to-understand analogies.\n",
    "\n",
    "    Propose a mini-project for every new concept. It should be small, focused, and build a strong foundation.\n",
    "\n",
    "    Talk about your blog as the place where you dive deeper into these topics.\n",
    "\n",
    "    Your mission is to inspire, educate, and empower users to become full-stack AI developers, one fun project at a time.\n",
    "\n",
    "    Example of your style: \"Okay, let's talk about agents. Think of an agent not just as a tool, but as the brainy intern in your AI project. It's the one who gets a task and figures out which tools to use and in what order. LangGraph is like a whiteboard where you draw out exactly how that intern should move from one task to the next. Let's make an agent that can tell you the weather and what to wear. No more surprise rainstorms!\n",
    "\"\"\"),\n",
    "HumanMessage(content=f\"\"\"\n",
    "   I'm working on a new Medium blog post and I need your help. Can you write me a fun, engaging, and practical blog post on the topic of {topic}?\n",
    "\n",
    "    Here are a few things to keep in mind:\n",
    "\n",
    "    Make it interesting! Don't just dump a bunch of theory on me. I want the blog to be fun, with real-world examples and analogies that make the topic easy to understand.\n",
    "\n",
    "    Show, don't just tell. Please include a small, mini-project or at least some mini-examples. I want the reader to be able to follow along and see how the concepts work in a practical way. Code snippets are a must where they're needed!\n",
    "\n",
    "    The main goal is to help a complete beginner build a strong, lasting foundation on this topic. Think of it as the first step in a journey to becoming a pro.\n",
    "\n",
    "    Thanks! I'm excited to see what you come up with.\n",
    "\n",
    "\"\"\")]\n",
    "    \n",
    "    response = generator_llm.invoke(prompt).content\n",
    "\n",
    "    state['iteration'] = 1\n",
    "    return {'blog':response,'iteration':state['iteration'] }\n",
    "    "
   ]
  },
  {
   "cell_type": "code",
   "execution_count": 219,
   "id": "193167ac",
   "metadata": {},
   "outputs": [],
   "source": [
    "def evaluate(state:BlogState):\n",
    "\n",
    "    blog = state['blog']\n",
    "\n",
    "    prompt = [\n",
    "        SystemMessage(content=\"\"\"\n",
    "    Assess if the blog contains any genuinely clever or effective humor. If it does not, state it. Do not attempt to be humorous yourself.\n",
    "\n",
    "    Originality: Determine if the content, topic, or approach is fresh and new. State whether it is a tired, unoriginal concept or if it offers a unique perspective.\n",
    "\n",
    "    Virality: Analyze the content's potential to be widely shared. State whether it is compelling, useful, or provocative enough to go viral, or if it is destined to be overlooked.\n",
    "\n",
    "    Format: Review the blog's structure, readability, and organization. Note any issues with formatting, excessive text, or a lack of visual appeal.\n",
    "\"\"\"),\n",
    "    HumanMessage(content=f\"\"\"\n",
    "    Hey, I just wrote a blog post and I need a second opinion. Can you take a look and give me some honest feedback?\n",
    "\n",
    "    Here's the blog:\n",
    "    BLOG: {blog}\n",
    "\n",
    "    I'd really appreciate it if you could evaluate it using this rubric. Be tough, but fair!\n",
    "\n",
    "    Originality: Does this feel fresh and new, or like something you've seen a hundred times?\n",
    "\n",
    "    Humor: Did it genuinely make you smile or laugh? Is the humor clever and tied to the topic, not just random jokes?\n",
    "\n",
    "    Punchiness: Is the writing sharp and to the point? Does it avoid fluff and get right to the good stuff?\n",
    "\n",
    "    Virality Potential: Is this a blog post that people would actually share with their friends or colleagues? Is it engaging enough that they would read it all the way through?\n",
    "\n",
    "    Format: Is the formatting clean and easy to read, with good use of headings, bold text, and code blocks?\n",
    "\n",
    "    Auto-reject it if:\n",
    "\n",
    "    It's a theoretical snoozefest without real-world or relatable examples.\n",
    "\n",
    "    It feels old-fashioned or just plain boring.\n",
    "\n",
    "    It ends with a weak, generic line that kills the vibe.\n",
    "\n",
    "    Give me your response in this exact format:\n",
    "    \"evaluation\": \"approved\" or \"need_improvement\",\n",
    "    \"feedback\": \"One paragraph explaining the blog's strengths and weaknesses.\"\n",
    "    \"\"\")\n",
    "    ]\n",
    "\n",
    "    response = structure_evaluator_model.invoke(prompt)\n",
    "    \n",
    "\n",
    "    return {'evalutation':response.evaluation, 'feedback':response.feedback}"
   ]
  },
  {
   "cell_type": "code",
   "execution_count": 220,
   "id": "c36bb5f7",
   "metadata": {},
   "outputs": [],
   "source": [
    "def optimize_blog(state:BlogState):\n",
    "    blog = state['blog']\n",
    "    feedback = state['feedback']\n",
    "\n",
    "    prompt = [\n",
    "        SystemMessage(content=\"You punch up blog for virality and humor based on given feedback.\"),\n",
    "        HumanMessage(content=f\"\"\"\n",
    "        Improve the blog based on the this feedback \"{feedback}\"\n",
    "\n",
    "        Topic: \"{state['topic']}\"\n",
    "        Original Blog: \"{blog}\"\n",
    "\n",
    "        Re-write it , make it intersating as possible add real world examples , avoid too much of theory and Avoid un-relateable examples and try add code snippets.\n",
    "\"\"\")\n",
    "\n",
    "    ]\n",
    "\n",
    "    response = optimizer_llm.invoke(prompt).content\n",
    "\n",
    "    return {'blog':response,'iteration':state['iteration'] + 1}\n",
    "    "
   ]
  },
  {
   "cell_type": "code",
   "execution_count": null,
   "id": "c56883d7",
   "metadata": {},
   "outputs": [],
   "source": [
    "def route_evaluation(state:BlogState)-> Literal[\"approved\",\"need_improvement\"]:\n",
    "\n",
    "    if state['evalutation'] == \"approved\" or state['iteration'] >= state['max_iteration']:\n",
    "        return \"approved\"\n",
    "    else:\n",
    "        return \"need_improvement\""
   ]
  },
  {
   "cell_type": "code",
   "execution_count": 222,
   "id": "f32d29fb",
   "metadata": {},
   "outputs": [],
   "source": [
    "# creating graph\n",
    "\n",
    "graph = StateGraph(BlogState)\n",
    "\n",
    "# add nodes\n",
    "\n",
    "graph.add_node(\"generate_blog\",generate_blog)\n",
    "graph.add_node(\"evaluate\",evaluate)\n",
    "graph.add_node(\"optimize_blog\",optimize_blog)\n",
    "\n",
    "# connecting edges\n",
    "\n",
    "graph.add_edge(START,\"generate_blog\")\n",
    "graph.add_edge(\"generate_blog\",\"evaluate\")\n",
    "graph.add_conditional_edges(\"evaluate\",route_evaluation,{\"approved\":END,\"need_improvement\":\"optimize_blog\"})\n",
    "graph.add_edge(\"optimize_blog\",\"evaluate\")\n",
    "\n",
    "# Creating workflow\n",
    "\n",
    "workflow = graph.compile()\n"
   ]
  },
  {
   "cell_type": "code",
   "execution_count": 223,
   "id": "6b100e3c",
   "metadata": {},
   "outputs": [
    {
     "data": {
      "image/png": "[encoded data removed]",
      "text/plain": [
       "<IPython.core.display.Image object>"
      ]
     },
     "execution_count": 223,
     "metadata": {},
     "output_type": "execute_result"
    }
   ],
   "source": [
    "from IPython.display import Image\n",
    "\n",
    "Image(workflow.get_graph().draw_mermaid_png())"
   ]
  },
  {
   "cell_type": "code",
   "execution_count": 224,
   "id": "2388a465",
   "metadata": {},
   "outputs": [
    {
     "ename": "KeyError",
     "evalue": "'iteration'",
     "output_type": "error",
     "traceback": [
      "\u001b[31m---------------------------------------------------------------------------\u001b[39m",
      "\u001b[31mKeyError\u001b[39m                                  Traceback (most recent call last)",
      "\u001b[36mCell\u001b[39m\u001b[36m \u001b[39m\u001b[32mIn[224]\u001b[39m\u001b[32m, line 3\u001b[39m\n\u001b[32m      1\u001b[39m initial_state = {\u001b[33m\"\u001b[39m\u001b[33mtopic\u001b[39m\u001b[33m\"\u001b[39m:\u001b[33m\"\u001b[39m\u001b[33mNodes and edges in langgraph\u001b[39m\u001b[33m\"\u001b[39m,\u001b[33m\"\u001b[39m\u001b[33mmax_iteration\u001b[39m\u001b[33m\"\u001b[39m:\u001b[32m5\u001b[39m}\n\u001b[32m----> \u001b[39m\u001b[32m3\u001b[39m final_result = \u001b[43mworkflow\u001b[49m\u001b[43m.\u001b[49m\u001b[43minvoke\u001b[49m\u001b[43m(\u001b[49m\u001b[43minitial_state\u001b[49m\u001b[43m)\u001b[49m\n\u001b[32m      5\u001b[39m \u001b[38;5;28mprint\u001b[39m(final_result)\n",
      "\u001b[36mFile \u001b[39m\u001b[32mc:\\Users\\SHIVA11\\Desktop\\langchain-academy\\.venv\\Lib\\site-packages\\langgraph\\pregel\\main.py:3026\u001b[39m, in \u001b[36mPregel.invoke\u001b[39m\u001b[34m(self, input, config, context, stream_mode, print_mode, output_keys, interrupt_before, interrupt_after, durability, **kwargs)\u001b[39m\n\u001b[32m   3023\u001b[39m chunks: \u001b[38;5;28mlist\u001b[39m[\u001b[38;5;28mdict\u001b[39m[\u001b[38;5;28mstr\u001b[39m, Any] | Any] = []\n\u001b[32m   3024\u001b[39m interrupts: \u001b[38;5;28mlist\u001b[39m[Interrupt] = []\n\u001b[32m-> \u001b[39m\u001b[32m3026\u001b[39m \u001b[43m\u001b[49m\u001b[38;5;28;43;01mfor\u001b[39;49;00m\u001b[43m \u001b[49m\u001b[43mchunk\u001b[49m\u001b[43m \u001b[49m\u001b[38;5;129;43;01min\u001b[39;49;00m\u001b[43m \u001b[49m\u001b[38;5;28;43mself\u001b[39;49m\u001b[43m.\u001b[49m\u001b[43mstream\u001b[49m\u001b[43m(\u001b[49m\n\u001b[32m   3027\u001b[39m \u001b[43m    \u001b[49m\u001b[38;5;28;43minput\u001b[39;49m\u001b[43m,\u001b[49m\n\u001b[32m   3028\u001b[39m \u001b[43m    \u001b[49m\u001b[43mconfig\u001b[49m\u001b[43m,\u001b[49m\n\u001b[32m   3029\u001b[39m \u001b[43m    \u001b[49m\u001b[43mcontext\u001b[49m\u001b[43m=\u001b[49m\u001b[43mcontext\u001b[49m\u001b[43m,\u001b[49m\n\u001b[32m   3030\u001b[39m \u001b[43m    \u001b[49m\u001b[43mstream_mode\u001b[49m\u001b[43m=\u001b[49m\u001b[43m[\u001b[49m\u001b[33;43m\"\u001b[39;49m\u001b[33;43mupdates\u001b[39;49m\u001b[33;43m\"\u001b[39;49m\u001b[43m,\u001b[49m\u001b[43m \u001b[49m\u001b[33;43m\"\u001b[39;49m\u001b[33;43mvalues\u001b[39;49m\u001b[33;43m\"\u001b[39;49m\u001b[43m]\u001b[49m\n\u001b[32m   3031\u001b[39m \u001b[43m    \u001b[49m\u001b[38;5;28;43;01mif\u001b[39;49;00m\u001b[43m \u001b[49m\u001b[43mstream_mode\u001b[49m\u001b[43m \u001b[49m\u001b[43m==\u001b[49m\u001b[43m \u001b[49m\u001b[33;43m\"\u001b[39;49m\u001b[33;43mvalues\u001b[39;49m\u001b[33;43m\"\u001b[39;49m\n\u001b[32m   3032\u001b[39m \u001b[43m    \u001b[49m\u001b[38;5;28;43;01melse\u001b[39;49;00m\u001b[43m \u001b[49m\u001b[43mstream_mode\u001b[49m\u001b[43m,\u001b[49m\n\u001b[32m   3033\u001b[39m \u001b[43m    \u001b[49m\u001b[43mprint_mode\u001b[49m\u001b[43m=\u001b[49m\u001b[43mprint_mode\u001b[49m\u001b[43m,\u001b[49m\n\u001b[32m   3034\u001b[39m \u001b[43m    \u001b[49m\u001b[43moutput_keys\u001b[49m\u001b[43m=\u001b[49m\u001b[43moutput_keys\u001b[49m\u001b[43m,\u001b[49m\n\u001b[32m   3035\u001b[39m \u001b[43m    \u001b[49m\u001b[43minterrupt_before\u001b[49m\u001b[43m=\u001b[49m\u001b[43minterrupt_before\u001b[49m\u001b[43m,\u001b[49m\n\u001b[32m   3036\u001b[39m \u001b[43m    \u001b[49m\u001b[43minterrupt_after\u001b[49m\u001b[43m=\u001b[49m\u001b[43minterrupt_after\u001b[49m\u001b[43m,\u001b[49m\n\u001b[32m   3037\u001b[39m \u001b[43m    \u001b[49m\u001b[43mdurability\u001b[49m\u001b[43m=\u001b[49m\u001b[43mdurability\u001b[49m\u001b[43m,\u001b[49m\n\u001b[32m   3038\u001b[39m \u001b[43m    \u001b[49m\u001b[43m*\u001b[49m\u001b[43m*\u001b[49m\u001b[43mkwargs\u001b[49m\u001b[43m,\u001b[49m\n\u001b[32m   3039\u001b[39m \u001b[43m\u001b[49m\u001b[43m)\u001b[49m\u001b[43m:\u001b[49m\n\u001b[32m   3040\u001b[39m \u001b[43m    \u001b[49m\u001b[38;5;28;43;01mif\u001b[39;49;00m\u001b[43m \u001b[49m\u001b[43mstream_mode\u001b[49m\u001b[43m \u001b[49m\u001b[43m==\u001b[49m\u001b[43m \u001b[49m\u001b[33;43m\"\u001b[39;49m\u001b[33;43mvalues\u001b[39;49m\u001b[33;43m\"\u001b[39;49m\u001b[43m:\u001b[49m\n\u001b[32m   3041\u001b[39m \u001b[43m        \u001b[49m\u001b[38;5;28;43;01mif\u001b[39;49;00m\u001b[43m \u001b[49m\u001b[38;5;28;43mlen\u001b[39;49m\u001b[43m(\u001b[49m\u001b[43mchunk\u001b[49m\u001b[43m)\u001b[49m\u001b[43m \u001b[49m\u001b[43m==\u001b[49m\u001b[43m \u001b[49m\u001b[32;43m2\u001b[39;49m\u001b[43m:\u001b[49m\n",
      "\u001b[36mFile \u001b[39m\u001b[32mc:\\Users\\SHIVA11\\Desktop\\langchain-academy\\.venv\\Lib\\site-packages\\langgraph\\pregel\\main.py:2647\u001b[39m, in \u001b[36mPregel.stream\u001b[39m\u001b[34m(self, input, config, context, stream_mode, print_mode, output_keys, interrupt_before, interrupt_after, durability, subgraphs, debug, **kwargs)\u001b[39m\n\u001b[32m   2645\u001b[39m \u001b[38;5;28;01mfor\u001b[39;00m task \u001b[38;5;129;01min\u001b[39;00m loop.match_cached_writes():\n\u001b[32m   2646\u001b[39m     loop.output_writes(task.id, task.writes, cached=\u001b[38;5;28;01mTrue\u001b[39;00m)\n\u001b[32m-> \u001b[39m\u001b[32m2647\u001b[39m \u001b[43m\u001b[49m\u001b[38;5;28;43;01mfor\u001b[39;49;00m\u001b[43m \u001b[49m\u001b[43m_\u001b[49m\u001b[43m \u001b[49m\u001b[38;5;129;43;01min\u001b[39;49;00m\u001b[43m \u001b[49m\u001b[43mrunner\u001b[49m\u001b[43m.\u001b[49m\u001b[43mtick\u001b[49m\u001b[43m(\u001b[49m\n\u001b[32m   2648\u001b[39m \u001b[43m    \u001b[49m\u001b[43m[\u001b[49m\u001b[43mt\u001b[49m\u001b[43m \u001b[49m\u001b[38;5;28;43;01mfor\u001b[39;49;00m\u001b[43m \u001b[49m\u001b[43mt\u001b[49m\u001b[43m \u001b[49m\u001b[38;5;129;43;01min\u001b[39;49;00m\u001b[43m \u001b[49m\u001b[43mloop\u001b[49m\u001b[43m.\u001b[49m\u001b[43mtasks\u001b[49m\u001b[43m.\u001b[49m\u001b[43mvalues\u001b[49m\u001b[43m(\u001b[49m\u001b[43m)\u001b[49m\u001b[43m \u001b[49m\u001b[38;5;28;43;01mif\u001b[39;49;00m\u001b[43m \u001b[49m\u001b[38;5;129;43;01mnot\u001b[39;49;00m\u001b[43m \u001b[49m\u001b[43mt\u001b[49m\u001b[43m.\u001b[49m\u001b[43mwrites\u001b[49m\u001b[43m]\u001b[49m\u001b[43m,\u001b[49m\n\u001b[32m   2649\u001b[39m \u001b[43m    \u001b[49m\u001b[43mtimeout\u001b[49m\u001b[43m=\u001b[49m\u001b[38;5;28;43mself\u001b[39;49m\u001b[43m.\u001b[49m\u001b[43mstep_timeout\u001b[49m\u001b[43m,\u001b[49m\n\u001b[32m   2650\u001b[39m \u001b[43m    \u001b[49m\u001b[43mget_waiter\u001b[49m\u001b[43m=\u001b[49m\u001b[43mget_waiter\u001b[49m\u001b[43m,\u001b[49m\n\u001b[32m   2651\u001b[39m \u001b[43m    \u001b[49m\u001b[43mschedule_task\u001b[49m\u001b[43m=\u001b[49m\u001b[43mloop\u001b[49m\u001b[43m.\u001b[49m\u001b[43maccept_push\u001b[49m\u001b[43m,\u001b[49m\n\u001b[32m   2652\u001b[39m \u001b[43m\u001b[49m\u001b[43m)\u001b[49m\u001b[43m:\u001b[49m\n\u001b[32m   2653\u001b[39m \u001b[43m    \u001b[49m\u001b[38;5;66;43;03m# emit output\u001b[39;49;00m\n\u001b[32m   2654\u001b[39m \u001b[43m    \u001b[49m\u001b[38;5;28;43;01myield from\u001b[39;49;00m\u001b[43m \u001b[49m\u001b[43m_output\u001b[49m\u001b[43m(\u001b[49m\n\u001b[32m   2655\u001b[39m \u001b[43m        \u001b[49m\u001b[43mstream_mode\u001b[49m\u001b[43m,\u001b[49m\u001b[43m \u001b[49m\u001b[43mprint_mode\u001b[49m\u001b[43m,\u001b[49m\u001b[43m \u001b[49m\u001b[43msubgraphs\u001b[49m\u001b[43m,\u001b[49m\u001b[43m \u001b[49m\u001b[43mstream\u001b[49m\u001b[43m.\u001b[49m\u001b[43mget\u001b[49m\u001b[43m,\u001b[49m\u001b[43m \u001b[49m\u001b[43mqueue\u001b[49m\u001b[43m.\u001b[49m\u001b[43mEmpty\u001b[49m\n\u001b[32m   2656\u001b[39m \u001b[43m    \u001b[49m\u001b[43m)\u001b[49m\n\u001b[32m   2657\u001b[39m loop.after_tick()\n",
      "\u001b[36mFile \u001b[39m\u001b[32mc:\\Users\\SHIVA11\\Desktop\\langchain-academy\\.venv\\Lib\\site-packages\\langgraph\\pregel\\_runner.py:162\u001b[39m, in \u001b[36mPregelRunner.tick\u001b[39m\u001b[34m(self, tasks, reraise, timeout, retry_policy, get_waiter, schedule_task)\u001b[39m\n\u001b[32m    160\u001b[39m t = tasks[\u001b[32m0\u001b[39m]\n\u001b[32m    161\u001b[39m \u001b[38;5;28;01mtry\u001b[39;00m:\n\u001b[32m--> \u001b[39m\u001b[32m162\u001b[39m     \u001b[43mrun_with_retry\u001b[49m\u001b[43m(\u001b[49m\n\u001b[32m    163\u001b[39m \u001b[43m        \u001b[49m\u001b[43mt\u001b[49m\u001b[43m,\u001b[49m\n\u001b[32m    164\u001b[39m \u001b[43m        \u001b[49m\u001b[43mretry_policy\u001b[49m\u001b[43m,\u001b[49m\n\u001b[32m    165\u001b[39m \u001b[43m        \u001b[49m\u001b[43mconfigurable\u001b[49m\u001b[43m=\u001b[49m\u001b[43m{\u001b[49m\n\u001b[32m    166\u001b[39m \u001b[43m            \u001b[49m\u001b[43mCONFIG_KEY_CALL\u001b[49m\u001b[43m:\u001b[49m\u001b[43m \u001b[49m\u001b[43mpartial\u001b[49m\u001b[43m(\u001b[49m\n\u001b[32m    167\u001b[39m \u001b[43m                \u001b[49m\u001b[43m_call\u001b[49m\u001b[43m,\u001b[49m\n\u001b[32m    168\u001b[39m \u001b[43m                \u001b[49m\u001b[43mweakref\u001b[49m\u001b[43m.\u001b[49m\u001b[43mref\u001b[49m\u001b[43m(\u001b[49m\u001b[43mt\u001b[49m\u001b[43m)\u001b[49m\u001b[43m,\u001b[49m\n\u001b[32m    169\u001b[39m \u001b[43m                \u001b[49m\u001b[43mretry_policy\u001b[49m\u001b[43m=\u001b[49m\u001b[43mretry_policy\u001b[49m\u001b[43m,\u001b[49m\n\u001b[32m    170\u001b[39m \u001b[43m                \u001b[49m\u001b[43mfutures\u001b[49m\u001b[43m=\u001b[49m\u001b[43mweakref\u001b[49m\u001b[43m.\u001b[49m\u001b[43mref\u001b[49m\u001b[43m(\u001b[49m\u001b[43mfutures\u001b[49m\u001b[43m)\u001b[49m\u001b[43m,\u001b[49m\n\u001b[32m    171\u001b[39m \u001b[43m                \u001b[49m\u001b[43mschedule_task\u001b[49m\u001b[43m=\u001b[49m\u001b[43mschedule_task\u001b[49m\u001b[43m,\u001b[49m\n\u001b[32m    172\u001b[39m \u001b[43m                \u001b[49m\u001b[43msubmit\u001b[49m\u001b[43m=\u001b[49m\u001b[38;5;28;43mself\u001b[39;49m\u001b[43m.\u001b[49m\u001b[43msubmit\u001b[49m\u001b[43m,\u001b[49m\n\u001b[32m    173\u001b[39m \u001b[43m            \u001b[49m\u001b[43m)\u001b[49m\u001b[43m,\u001b[49m\n\u001b[32m    174\u001b[39m \u001b[43m        \u001b[49m\u001b[43m}\u001b[49m\u001b[43m,\u001b[49m\n\u001b[32m    175\u001b[39m \u001b[43m    \u001b[49m\u001b[43m)\u001b[49m\n\u001b[32m    176\u001b[39m     \u001b[38;5;28mself\u001b[39m.commit(t, \u001b[38;5;28;01mNone\u001b[39;00m)\n\u001b[32m    177\u001b[39m \u001b[38;5;28;01mexcept\u001b[39;00m \u001b[38;5;167;01mException\u001b[39;00m \u001b[38;5;28;01mas\u001b[39;00m exc:\n",
      "\u001b[36mFile \u001b[39m\u001b[32mc:\\Users\\SHIVA11\\Desktop\\langchain-academy\\.venv\\Lib\\site-packages\\langgraph\\pregel\\_retry.py:42\u001b[39m, in \u001b[36mrun_with_retry\u001b[39m\u001b[34m(task, retry_policy, configurable)\u001b[39m\n\u001b[32m     40\u001b[39m     task.writes.clear()\n\u001b[32m     41\u001b[39m     \u001b[38;5;66;03m# run the task\u001b[39;00m\n\u001b[32m---> \u001b[39m\u001b[32m42\u001b[39m     \u001b[38;5;28;01mreturn\u001b[39;00m \u001b[43mtask\u001b[49m\u001b[43m.\u001b[49m\u001b[43mproc\u001b[49m\u001b[43m.\u001b[49m\u001b[43minvoke\u001b[49m\u001b[43m(\u001b[49m\u001b[43mtask\u001b[49m\u001b[43m.\u001b[49m\u001b[43minput\u001b[49m\u001b[43m,\u001b[49m\u001b[43m \u001b[49m\u001b[43mconfig\u001b[49m\u001b[43m)\u001b[49m\n\u001b[32m     43\u001b[39m \u001b[38;5;28;01mexcept\u001b[39;00m ParentCommand \u001b[38;5;28;01mas\u001b[39;00m exc:\n\u001b[32m     44\u001b[39m     ns: \u001b[38;5;28mstr\u001b[39m = config[CONF][CONFIG_KEY_CHECKPOINT_NS]\n",
      "\u001b[36mFile \u001b[39m\u001b[32mc:\\Users\\SHIVA11\\Desktop\\langchain-academy\\.venv\\Lib\\site-packages\\langgraph\\_internal\\_runnable.py:659\u001b[39m, in \u001b[36mRunnableSeq.invoke\u001b[39m\u001b[34m(self, input, config, **kwargs)\u001b[39m\n\u001b[32m    657\u001b[39m                 \u001b[38;5;28minput\u001b[39m = context.run(step.invoke, \u001b[38;5;28minput\u001b[39m, config, **kwargs)\n\u001b[32m    658\u001b[39m         \u001b[38;5;28;01melse\u001b[39;00m:\n\u001b[32m--> \u001b[39m\u001b[32m659\u001b[39m             \u001b[38;5;28minput\u001b[39m = \u001b[43mstep\u001b[49m\u001b[43m.\u001b[49m\u001b[43minvoke\u001b[49m\u001b[43m(\u001b[49m\u001b[38;5;28;43minput\u001b[39;49m\u001b[43m,\u001b[49m\u001b[43m \u001b[49m\u001b[43mconfig\u001b[49m\u001b[43m)\u001b[49m\n\u001b[32m    660\u001b[39m \u001b[38;5;66;03m# finish the root run\u001b[39;00m\n\u001b[32m    661\u001b[39m \u001b[38;5;28;01mexcept\u001b[39;00m \u001b[38;5;167;01mBaseException\u001b[39;00m \u001b[38;5;28;01mas\u001b[39;00m e:\n",
      "\u001b[36mFile \u001b[39m\u001b[32mc:\\Users\\SHIVA11\\Desktop\\langchain-academy\\.venv\\Lib\\site-packages\\langgraph\\_internal\\_runnable.py:401\u001b[39m, in \u001b[36mRunnableCallable.invoke\u001b[39m\u001b[34m(self, input, config, **kwargs)\u001b[39m\n\u001b[32m    399\u001b[39m         run_manager.on_chain_end(ret)\n\u001b[32m    400\u001b[39m \u001b[38;5;28;01melse\u001b[39;00m:\n\u001b[32m--> \u001b[39m\u001b[32m401\u001b[39m     ret = \u001b[38;5;28;43mself\u001b[39;49m\u001b[43m.\u001b[49m\u001b[43mfunc\u001b[49m\u001b[43m(\u001b[49m\u001b[43m*\u001b[49m\u001b[43margs\u001b[49m\u001b[43m,\u001b[49m\u001b[43m \u001b[49m\u001b[43m*\u001b[49m\u001b[43m*\u001b[49m\u001b[43mkwargs\u001b[49m\u001b[43m)\u001b[49m\n\u001b[32m    402\u001b[39m \u001b[38;5;28;01mif\u001b[39;00m \u001b[38;5;28mself\u001b[39m.recurse \u001b[38;5;129;01mand\u001b[39;00m \u001b[38;5;28misinstance\u001b[39m(ret, Runnable):\n\u001b[32m    403\u001b[39m     \u001b[38;5;28;01mreturn\u001b[39;00m ret.invoke(\u001b[38;5;28minput\u001b[39m, config)\n",
      "\u001b[36mFile \u001b[39m\u001b[32mc:\\Users\\SHIVA11\\Desktop\\langchain-academy\\.venv\\Lib\\site-packages\\langgraph\\graph\\_branch.py:168\u001b[39m, in \u001b[36mBranchSpec._route\u001b[39m\u001b[34m(self, input, config, reader, writer)\u001b[39m\n\u001b[32m    166\u001b[39m \u001b[38;5;28;01melse\u001b[39;00m:\n\u001b[32m    167\u001b[39m     value = \u001b[38;5;28minput\u001b[39m\n\u001b[32m--> \u001b[39m\u001b[32m168\u001b[39m result = \u001b[38;5;28;43mself\u001b[39;49m\u001b[43m.\u001b[49m\u001b[43mpath\u001b[49m\u001b[43m.\u001b[49m\u001b[43minvoke\u001b[49m\u001b[43m(\u001b[49m\u001b[43mvalue\u001b[49m\u001b[43m,\u001b[49m\u001b[43m \u001b[49m\u001b[43mconfig\u001b[49m\u001b[43m)\u001b[49m\n\u001b[32m    169\u001b[39m \u001b[38;5;28;01mreturn\u001b[39;00m \u001b[38;5;28mself\u001b[39m._finish(writer, \u001b[38;5;28minput\u001b[39m, result, config)\n",
      "\u001b[36mFile \u001b[39m\u001b[32mc:\\Users\\SHIVA11\\Desktop\\langchain-academy\\.venv\\Lib\\site-packages\\langgraph\\_internal\\_runnable.py:394\u001b[39m, in \u001b[36mRunnableCallable.invoke\u001b[39m\u001b[34m(self, input, config, **kwargs)\u001b[39m\n\u001b[32m    392\u001b[39m     \u001b[38;5;66;03m# run in context\u001b[39;00m\n\u001b[32m    393\u001b[39m     \u001b[38;5;28;01mwith\u001b[39;00m set_config_context(child_config, run) \u001b[38;5;28;01mas\u001b[39;00m context:\n\u001b[32m--> \u001b[39m\u001b[32m394\u001b[39m         ret = \u001b[43mcontext\u001b[49m\u001b[43m.\u001b[49m\u001b[43mrun\u001b[49m\u001b[43m(\u001b[49m\u001b[38;5;28;43mself\u001b[39;49m\u001b[43m.\u001b[49m\u001b[43mfunc\u001b[49m\u001b[43m,\u001b[49m\u001b[43m \u001b[49m\u001b[43m*\u001b[49m\u001b[43margs\u001b[49m\u001b[43m,\u001b[49m\u001b[43m \u001b[49m\u001b[43m*\u001b[49m\u001b[43m*\u001b[49m\u001b[43mkwargs\u001b[49m\u001b[43m)\u001b[49m\n\u001b[32m    395\u001b[39m \u001b[38;5;28;01mexcept\u001b[39;00m \u001b[38;5;167;01mBaseException\u001b[39;00m \u001b[38;5;28;01mas\u001b[39;00m e:\n\u001b[32m    396\u001b[39m     run_manager.on_chain_error(e)\n",
      "\u001b[36mCell\u001b[39m\u001b[36m \u001b[39m\u001b[32mIn[221]\u001b[39m\u001b[32m, line 3\u001b[39m, in \u001b[36mroute_evaluation\u001b[39m\u001b[34m(state)\u001b[39m\n\u001b[32m      1\u001b[39m \u001b[38;5;28;01mdef\u001b[39;00m\u001b[38;5;250m \u001b[39m\u001b[34mroute_evaluation\u001b[39m(state:BlogState)-> Literal[\u001b[33m\"\u001b[39m\u001b[33mapproved\u001b[39m\u001b[33m\"\u001b[39m,\u001b[33m\"\u001b[39m\u001b[33mneed_improvement\u001b[39m\u001b[33m\"\u001b[39m]:\n\u001b[32m----> \u001b[39m\u001b[32m3\u001b[39m     \u001b[38;5;28;01mif\u001b[39;00m state[\u001b[33m'\u001b[39m\u001b[33mevalutation\u001b[39m\u001b[33m'\u001b[39m] == \u001b[33m\"\u001b[39m\u001b[33mapproved\u001b[39m\u001b[33m\"\u001b[39m \u001b[38;5;129;01mor\u001b[39;00m \u001b[43mstate\u001b[49m\u001b[43m[\u001b[49m\u001b[33;43m'\u001b[39;49m\u001b[33;43miteration\u001b[39;49m\u001b[33;43m'\u001b[39;49m\u001b[43m]\u001b[49m >= state[\u001b[33m'\u001b[39m\u001b[33mmax_iteration\u001b[39m\u001b[33m'\u001b[39m]:\n\u001b[32m      4\u001b[39m         \u001b[38;5;28;01mreturn\u001b[39;00m \u001b[33m\"\u001b[39m\u001b[33mapproved\u001b[39m\u001b[33m\"\u001b[39m\n\u001b[32m      5\u001b[39m     \u001b[38;5;28;01melse\u001b[39;00m:\n",
      "\u001b[31mKeyError\u001b[39m: 'iteration'",
      "During task with name 'evaluate' and id 'a8360411-8ccf-8542-7b27-7626c38f49f7'"
     ]
    }
   ],
   "source": [
    "initial_state = {\"topic\":\"Nodes and edges in langgraph\",\"max_iteration\":5}\n",
    "\n",
    "final_result = workflow.invoke(initial_state)\n",
    "\n",
    "print(final_result)"
   ]
  }
 ],
 "metadata": {
  "kernelspec": {
   "display_name": ".venv",
   "language": "python",
   "name": "python3"
  },
  "language_info": {
   "codemirror_mode": {
    "name": "ipython",
    "version": 3
   },
   "file_extension": ".py",
   "mimetype": "text/x-python",
   "name": "python",
   "nbconvert_exporter": "python",
   "pygments_lexer": "ipython3",
   "version": "3.12.6"
  }
 },
 "nbformat": 4,
 "nbformat_minor": 5
}
