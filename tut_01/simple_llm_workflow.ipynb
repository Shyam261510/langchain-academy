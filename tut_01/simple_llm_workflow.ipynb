{
 "cells": [
  {
   "cell_type": "code",
   "execution_count": 18,
   "id": "31c7396a",
   "metadata": {},
   "outputs": [],
   "source": [
    "from langgraph.graph import StateGraph,START,END\n",
    "from langchain_openai import ChatOpenAI\n",
    "from typing import TypedDict\n",
    "from dotenv import load_dotenv\n",
    "import os"
   ]
  },
  {
   "cell_type": "code",
   "execution_count": null,
   "id": "b034621e",
   "metadata": {},
   "outputs": [],
   "source": [
    "load_dotenv()\n",
    "api_key = os.getenv(\"OPENAI_API_KEY\")\n"
   ]
  },
  {
   "cell_type": "code",
   "execution_count": 20,
   "id": "1c3a25cd",
   "metadata": {},
   "outputs": [],
   "source": [
    "model = ChatOpenAI(api_key=api_key,model=\"gpt-4o\")"
   ]
  },
  {
   "cell_type": "code",
   "execution_count": 21,
   "id": "f67cf0e6",
   "metadata": {},
   "outputs": [],
   "source": [
    "# Create a state\n",
    "\n",
    "class LLMState(TypedDict):\n",
    "    question:str\n",
    "    answer:str"
   ]
  },
  {
   "cell_type": "code",
   "execution_count": 22,
   "id": "b6949674",
   "metadata": {},
   "outputs": [],
   "source": [
    "def llm_qa(state:LLMState)->LLMState:\n",
    "    question = state['question']\n",
    "    prompt = f'Answer the following the question {question}'\n",
    "\n",
    "    answer = model.invoke(prompt).content\n",
    "    \n",
    "    state['answer'] = answer\n",
    "\n",
    "    return state\n"
   ]
  },
  {
   "cell_type": "code",
   "execution_count": 23,
   "id": "7c3bdff1",
   "metadata": {},
   "outputs": [],
   "source": [
    "# Create a graph\n",
    "\n",
    "graph = StateGraph(LLMState)\n",
    "\n",
    "# Add node\n",
    "\n",
    "graph.add_node(\"llm_qa\",llm_qa)\n",
    "# add Edge\n",
    "\n",
    "graph.add_edge(START,\"llm_qa\")\n",
    "graph.add_edge(\"llm_qa\",END)\n",
    "\n",
    "# Creating workflow\n",
    "\n",
    "workflow = graph.compile()"
   ]
  },
  {
   "cell_type": "code",
   "execution_count": 24,
   "id": "46bedba1",
   "metadata": {},
   "outputs": [
    {
     "name": "stdout",
     "output_type": "stream",
     "text": [
      "{'question': \"Hello! how's going? Can you tell me what is langgraph and i become ai engineer using langgraph and lagnchain because i have full stack software develpment experience?\", 'answer': 'Hello! I\\'m doing well, thank you. Let\\'s dive into your question.\\n\\nAs of my last update, \"LangGraph\" doesn\\'t appear to be a widely recognized term or tool within the AI or tech community. It\\'s possible that it could be a new or niche product, a misspelling, or a very recent development post-dating my last update. However, I can certainly speak to \"LangChain,\" which is a well-known framework related to your query.\\n\\n### LangChain:\\nLangChain is a framework designed to facilitate the development of applications using language models. It offers tools and abstractions to build more complex applications with language models beyond simple text generation. This includes prompt chaining, integrating external data sources, and more, to enable developers to create more sophisticated conversational agents or language-based applications.\\n\\n### Transitioning to an AI Engineer Role:\\nGiven your background as a full-stack software developer, you already possess a solid foundation in software development principles, which can be highly beneficial when moving into AI engineering. Here are some steps on how you might leverage tools like LangChain and potentially \"LangGraph,\" along with your existing skills, to transition into AI engineering:\\n\\n1. **Learning AI Fundamentals**: Strengthen your understanding of machine learning concepts, neural networks, and natural language processing (NLP).\\n\\n2. **Hands-on Practice**: Use frameworks like LangChain to build projects. Start with simple applications and gradually tackle more complex projects as you gain confidence.\\n\\n3. **Programming Skills**: Your full-stack development experience means you likely have strong programming skills, which are crucial in AI. Python is particularly important in AI, so ensure you\\'re proficient in it.\\n\\n4. **Data Handling Skills**: Understanding data preprocessing, visualization, and analysis will be essential, as data is central to building AI models.\\n\\n5. **Explore AI Tools and Libraries**: Familiarize yourself with popular AI and ML libraries such as TensorFlow, PyTorch, scikit-learn, and libraries related to NLP.\\n\\n6. **Community and Collaboration**: Engage with the AI community through forums, GitHub, or by contributing to open source projects. This will help you learn from others and keep up with the latest trends.\\n\\n7. **Advanced Learning**: Consider online courses or certifications in AI and machine learning to deepen your knowledge and gain recognized credentials.\\n\\nBy leveraging your existing full-stack experience and augmenting it with AI-specific skills, you can effectively position yourself as an AI engineer. Keep an eye out for any new tools or trends in AI that could further aid your transition.'}\n"
     ]
    }
   ],
   "source": [
    "inital_state = {\"question\":\"Hello! how's going? Can you tell me what is langgraph and i become ai engineer using langgraph and lagnchain because i have full stack software develpment experience?\"}\n",
    "\n",
    "final_result = workflow.invoke(inital_state)\n",
    "\n",
    "print(final_result)"
   ]
  }
 ],
 "metadata": {
  "kernelspec": {
   "display_name": ".venv",
   "language": "python",
   "name": "python3"
  },
  "language_info": {
   "codemirror_mode": {
    "name": "ipython",
    "version": 3
   },
   "file_extension": ".py",
   "mimetype": "text/x-python",
   "name": "python",
   "nbconvert_exporter": "python",
   "pygments_lexer": "ipython3",
   "version": "3.12.6"
  }
 },
 "nbformat": 4,
 "nbformat_minor": 5
}
