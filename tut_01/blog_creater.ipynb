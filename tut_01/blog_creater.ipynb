{
 "cells": [
  {
   "cell_type": "code",
   "execution_count": 56,
   "id": "99227453",
   "metadata": {},
   "outputs": [],
   "source": [
    "from langgraph.graph import StateGraph ,START,END\n",
    "from langchain_openai import ChatOpenAI\n",
    "from dotenv import load_dotenv\n",
    "from typing import TypedDict\n",
    "import os"
   ]
  },
  {
   "cell_type": "code",
   "execution_count": 57,
   "id": "53755e8c",
   "metadata": {},
   "outputs": [],
   "source": [
    "load_dotenv()\n",
    "api_key = os.getenv(\"OPENAI_API_KEY\")"
   ]
  },
  {
   "cell_type": "code",
   "execution_count": 58,
   "id": "8fbc8ad2",
   "metadata": {},
   "outputs": [],
   "source": [
    "model = ChatOpenAI(api_key=api_key,model=\"gpt-4o\")"
   ]
  },
  {
   "cell_type": "code",
   "execution_count": 59,
   "id": "3b901aec",
   "metadata": {},
   "outputs": [],
   "source": [
    "class BlogState(TypedDict):\n",
    "    title:str\n",
    "    outline:str\n",
    "    blog:str\n",
    "    score:int"
   ]
  },
  {
   "cell_type": "code",
   "execution_count": 60,
   "id": "ca14f580",
   "metadata": {},
   "outputs": [],
   "source": [
    "def create_outline(state:BlogState)-> BlogState:\n",
    "    title = state['title'] \n",
    "    prompt = f\"Draft me the detial outline on {title}.Use professional + Precise wording\"\n",
    "    new_outline = model.invoke(prompt).content\n",
    "\n",
    "    state['outline'] = new_outline\n",
    "\n",
    "    return state"
   ]
  },
  {
   "cell_type": "code",
   "execution_count": 61,
   "id": "1438572e",
   "metadata": {},
   "outputs": [],
   "source": [
    "def create_blog(state:BlogState)-> BlogState:\n",
    "    outline = state['outline']\n",
    "\n",
    "    prompt = f'Draft me good and informative + Precise blog on {outline}. Use emojies to make it interative and use friendly , fun and professional way'\n",
    "\n",
    "    blog = model.invoke(prompt).content\n",
    "\n",
    "    state['blog'] = blog\n",
    "\n",
    "    return state"
   ]
  },
  {
   "cell_type": "code",
   "execution_count": 64,
   "id": "1dfc7966",
   "metadata": {},
   "outputs": [],
   "source": [
    "def evaluate(state:BlogState)-> BlogState:\n",
    "    outline = state['outline']\n",
    "    blog = state['blog']\n",
    "\n",
    "    prompt = f'Analyze the outline -> {outline} \\n and blog -> {blog} \\n.Give total score out of 10'\n",
    "\n",
    "    score = model.invoke(prompt).content\n",
    "\n",
    "    state['score'] = score\n",
    "\n",
    "    return state"
   ]
  },
  {
   "cell_type": "code",
   "execution_count": null,
   "id": "d9a24332",
   "metadata": {},
   "outputs": [
    {
     "ename": "TypeError",
     "evalue": "StateGraph.add_edge() takes 3 positional arguments but 4 were given",
     "output_type": "error",
     "traceback": [
      "\u001b[31m---------------------------------------------------------------------------\u001b[39m",
      "\u001b[31mTypeError\u001b[39m                                 Traceback (most recent call last)",
      "\u001b[36mCell\u001b[39m\u001b[36m \u001b[39m\u001b[32mIn[65]\u001b[39m\u001b[32m, line 14\u001b[39m\n\u001b[32m     11\u001b[39m \u001b[38;5;66;03m## Add Edge\u001b[39;00m\n\u001b[32m     13\u001b[39m graph.add_edge(START,\u001b[33m\"\u001b[39m\u001b[33mcreate_outline\u001b[39m\u001b[33m\"\u001b[39m)\n\u001b[32m---> \u001b[39m\u001b[32m14\u001b[39m \u001b[43mgraph\u001b[49m\u001b[43m.\u001b[49m\u001b[43madd_edge\u001b[49m\u001b[43m(\u001b[49m\u001b[33;43m\"\u001b[39;49m\u001b[33;43mcreate_outline\u001b[39;49m\u001b[33;43m\"\u001b[39;49m\u001b[43m,\u001b[49m\u001b[33;43m\"\u001b[39;49m\u001b[33;43mcreate_blog\u001b[39;49m\u001b[33;43m\"\u001b[39;49m\u001b[43m,\u001b[49m\u001b[33;43m\"\u001b[39;49m\u001b[33;43mevaluate\u001b[39;49m\u001b[33;43m\"\u001b[39;49m\u001b[43m)\u001b[49m\n\u001b[32m     15\u001b[39m graph.add_edge(\u001b[33m\"\u001b[39m\u001b[33mevaluate\u001b[39m\u001b[33m\"\u001b[39m,END)\n\u001b[32m     17\u001b[39m \u001b[38;5;66;03m## create workflow \u001b[39;00m\n",
      "\u001b[31mTypeError\u001b[39m: StateGraph.add_edge() takes 3 positional arguments but 4 were given"
     ]
    }
   ],
   "source": [
    "# create graph\n",
    "\n",
    "graph = StateGraph(BlogState)\n",
    "\n",
    "## ADD NODE\n",
    "\n",
    "graph.add_node(\"create_outline\",create_outline)\n",
    "graph.add_node(\"create_blog\",create_blog)\n",
    "graph.add_node(\"evaluate\",evaluate)\n",
    "\n",
    "## Add Edge\n",
    "\n",
    "graph.add_edge(START,\"create_outline\")\n",
    "graph.add_edge(\"create_outline\",\"create_blog\")\n",
    "graph.add_edge(\"create_blog\",\"evaluate\")\n",
    "graph.add_edge(\"evaluate\",END)\n",
    "\n",
    "## create workflow \n",
    "\n",
    "workflow = graph.compile()"
   ]
  },
  {
   "cell_type": "code",
   "execution_count": null,
   "id": "0cef4466",
   "metadata": {},
   "outputs": [],
   "source": [
    "inital_state = {\"title\":\"How can i full stack software developer with MERN stack can become a AI Engineer using langchain and langgraph and build exiting projects?\"}\n",
    "\n",
    "final_result = workflow.invoke(inital_state)\n",
    "\n",
    "print(final_result)"
   ]
  },
  {
   "cell_type": "code",
   "execution_count": null,
   "id": "c3897d89",
   "metadata": {},
   "outputs": [],
   "source": [
    "from IPython.display import Image\n",
    "\n",
    "Image(workflow.get_graph().draw_mermaid_png())"
   ]
  },
  {
   "cell_type": "code",
   "execution_count": null,
   "id": "d9d07f95",
   "metadata": {},
   "outputs": [],
   "source": [
    "print(\"--BLOG Outline--\")\n",
    "print(final_result['outline'])\n",
    "\n"
   ]
  },
  {
   "cell_type": "code",
   "execution_count": null,
   "id": "1660da09",
   "metadata": {},
   "outputs": [],
   "source": [
    "print(\"--BLOG--\")\n",
    "print(final_result['blog'])"
   ]
  }
 ],
 "metadata": {
  "kernelspec": {
   "display_name": ".venv",
   "language": "python",
   "name": "python3"
  },
  "language_info": {
   "codemirror_mode": {
    "name": "ipython",
    "version": 3
   },
   "file_extension": ".py",
   "mimetype": "text/x-python",
   "name": "python",
   "nbconvert_exporter": "python",
   "pygments_lexer": "ipython3",
   "version": "3.12.6"
  }
 },
 "nbformat": 4,
 "nbformat_minor": 5
}
