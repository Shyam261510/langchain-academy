{
 "cells": [
  {
   "cell_type": "code",
   "execution_count": 2,
   "id": "d4448489",
   "metadata": {},
   "outputs": [],
   "source": [
    "from typing import TypedDict\n",
    "from langgraph.graph import StateGraph ,START,END\n",
    "from typing import Literal"
   ]
  },
  {
   "cell_type": "code",
   "execution_count": 3,
   "id": "e37cded7",
   "metadata": {},
   "outputs": [],
   "source": [
    "class QuadState(TypedDict):\n",
    "    a:int\n",
    "    b:int\n",
    "    c:int\n",
    "\n",
    "    equation :str\n",
    "    discriment:float\n",
    "    result :str"
   ]
  },
  {
   "cell_type": "code",
   "execution_count": 4,
   "id": "60a3aa5a",
   "metadata": {},
   "outputs": [],
   "source": [
    "def show_equation(state:QuadState):\n",
    "    a = state['a']\n",
    "    b = state['b']\n",
    "    c = state['c']\n",
    "\n",
    "    equation = f\"{a}x2{b}x{c}\"\n",
    "\n",
    "    return {\"equation\":equation}"
   ]
  },
  {
   "cell_type": "code",
   "execution_count": 5,
   "id": "1a44a5bd",
   "metadata": {},
   "outputs": [],
   "source": [
    "def calculate_discriment(state:QuadState):\n",
    "    a = state['a']\n",
    "    b = state['b']\n",
    "    c = state['c']\n",
    "\n",
    "    discriment = b**2 - 4*a*c\n",
    "    return {\"discriment\":discriment}"
   ]
  },
  {
   "cell_type": "code",
   "execution_count": 6,
   "id": "8641de98",
   "metadata": {},
   "outputs": [],
   "source": [
    "def real_roots(state:QuadState):\n",
    "     a = state['a']\n",
    "     b = state['b']\n",
    "     discriment = state['discriment']\n",
    "     \n",
    "     root1 = (- b + discriment**0.5) / ( 2 * a)\n",
    "\n",
    "     root2 = (- b - discriment**0.5) / ( 2 * a)\n",
    "\n",
    "     result = f\"The roots are {root1} and {root2}\"\n",
    "\n",
    "     return {\"result\":result}"
   ]
  },
  {
   "cell_type": "code",
   "execution_count": 7,
   "id": "bcfc3edd",
   "metadata": {},
   "outputs": [],
   "source": [
    "def repated_roots(state:QuadState):\n",
    "\n",
    "    a = state['a']\n",
    "    b = state['b']\n",
    "\n",
    "    root = ( - b ) / ( 2 * a)\n",
    "    result = f\"Only repeating root is {root}\"\n",
    "\n",
    "    return {\"result\":result}"
   ]
  },
  {
   "cell_type": "code",
   "execution_count": 8,
   "id": "45b208fa",
   "metadata": {},
   "outputs": [],
   "source": [
    "def check_condition(state:QuadState)-> Literal['real_roots',\"repated_roots\",\"no_real_root\"]:\n",
    "    discriment = state['discriment']\n",
    "    \n",
    "    if discriment > 0:\n",
    "        return \"real_roots\"\n",
    "    elif discriment == 0:\n",
    "        return \"repated_roots\"\n",
    "    else:\n",
    "        return \"no_real_root\""
   ]
  },
  {
   "cell_type": "code",
   "execution_count": 9,
   "id": "c93d1ef7",
   "metadata": {},
   "outputs": [],
   "source": [
    "def no_real_root(state:QuadState):\n",
    "\n",
    "    result = \"Their is not real roots\"\n",
    "\n",
    "    return {\"result\":result}"
   ]
  },
  {
   "cell_type": "code",
   "execution_count": null,
   "id": "78c19bda",
   "metadata": {},
   "outputs": [
    {
     "ename": "ValueError",
     "evalue": "Found edge starting at unknown node 'repated_roots'",
     "output_type": "error",
     "traceback": [
      "\u001b[31m---------------------------------------------------------------------------\u001b[39m",
      "\u001b[31mValueError\u001b[39m                                Traceback (most recent call last)",
      "\u001b[36mCell\u001b[39m\u001b[36m \u001b[39m\u001b[32mIn[11]\u001b[39m\u001b[32m, line 21\u001b[39m\n\u001b[32m     17\u001b[39m graph.add_edge(\u001b[33m\"\u001b[39m\u001b[33mno_real_root\u001b[39m\u001b[33m\"\u001b[39m,END)\n\u001b[32m     19\u001b[39m \u001b[38;5;66;03m# compiling\u001b[39;00m\n\u001b[32m---> \u001b[39m\u001b[32m21\u001b[39m workflow = \u001b[43mgraph\u001b[49m\u001b[43m.\u001b[49m\u001b[43mcompile\u001b[49m\u001b[43m(\u001b[49m\u001b[43m)\u001b[49m\n",
      "\u001b[36mFile \u001b[39m\u001b[32mc:\\Users\\PC\\OneDrive\\Desktop\\langchain-academy\\.venv\\Lib\\site-packages\\langgraph\\graph\\state.py:829\u001b[39m, in \u001b[36mStateGraph.compile\u001b[39m\u001b[34m(self, checkpointer, cache, store, interrupt_before, interrupt_after, debug, name)\u001b[39m\n\u001b[32m    826\u001b[39m interrupt_after = interrupt_after \u001b[38;5;129;01mor\u001b[39;00m []\n\u001b[32m    828\u001b[39m \u001b[38;5;66;03m# validate the graph\u001b[39;00m\n\u001b[32m--> \u001b[39m\u001b[32m829\u001b[39m \u001b[38;5;28;43mself\u001b[39;49m\u001b[43m.\u001b[49m\u001b[43mvalidate\u001b[49m\u001b[43m(\u001b[49m\n\u001b[32m    830\u001b[39m \u001b[43m    \u001b[49m\u001b[43minterrupt\u001b[49m\u001b[43m=\u001b[49m\u001b[43m(\u001b[49m\n\u001b[32m    831\u001b[39m \u001b[43m        \u001b[49m\u001b[43m(\u001b[49m\u001b[43minterrupt_before\u001b[49m\u001b[43m \u001b[49m\u001b[38;5;28;43;01mif\u001b[39;49;00m\u001b[43m \u001b[49m\u001b[43minterrupt_before\u001b[49m\u001b[43m \u001b[49m\u001b[43m!=\u001b[49m\u001b[43m \u001b[49m\u001b[33;43m\"\u001b[39;49m\u001b[33;43m*\u001b[39;49m\u001b[33;43m\"\u001b[39;49m\u001b[43m \u001b[49m\u001b[38;5;28;43;01melse\u001b[39;49;00m\u001b[43m \u001b[49m\u001b[43m[\u001b[49m\u001b[43m]\u001b[49m\u001b[43m)\u001b[49m\u001b[43m \u001b[49m\u001b[43m+\u001b[49m\u001b[43m \u001b[49m\u001b[43minterrupt_after\u001b[49m\n\u001b[32m    832\u001b[39m \u001b[43m        \u001b[49m\u001b[38;5;28;43;01mif\u001b[39;49;00m\u001b[43m \u001b[49m\u001b[43minterrupt_after\u001b[49m\u001b[43m \u001b[49m\u001b[43m!=\u001b[49m\u001b[43m \u001b[49m\u001b[33;43m\"\u001b[39;49m\u001b[33;43m*\u001b[39;49m\u001b[33;43m\"\u001b[39;49m\n\u001b[32m    833\u001b[39m \u001b[43m        \u001b[49m\u001b[38;5;28;43;01melse\u001b[39;49;00m\u001b[43m \u001b[49m\u001b[43m[\u001b[49m\u001b[43m]\u001b[49m\n\u001b[32m    834\u001b[39m \u001b[43m    \u001b[49m\u001b[43m)\u001b[49m\n\u001b[32m    835\u001b[39m \u001b[43m\u001b[49m\u001b[43m)\u001b[49m\n\u001b[32m    837\u001b[39m \u001b[38;5;66;03m# prepare output channels\u001b[39;00m\n\u001b[32m    838\u001b[39m output_channels = (\n\u001b[32m    839\u001b[39m     \u001b[33m\"\u001b[39m\u001b[33m__root__\u001b[39m\u001b[33m\"\u001b[39m\n\u001b[32m    840\u001b[39m     \u001b[38;5;28;01mif\u001b[39;00m \u001b[38;5;28mlen\u001b[39m(\u001b[38;5;28mself\u001b[39m.schemas[\u001b[38;5;28mself\u001b[39m.output_schema]) == \u001b[32m1\u001b[39m\n\u001b[32m   (...)\u001b[39m\u001b[32m    846\u001b[39m     ]\n\u001b[32m    847\u001b[39m )\n",
      "\u001b[36mFile \u001b[39m\u001b[32mc:\\Users\\PC\\OneDrive\\Desktop\\langchain-academy\\.venv\\Lib\\site-packages\\langgraph\\graph\\state.py:756\u001b[39m, in \u001b[36mStateGraph.validate\u001b[39m\u001b[34m(self, interrupt)\u001b[39m\n\u001b[32m    754\u001b[39m \u001b[38;5;28;01mfor\u001b[39;00m source \u001b[38;5;129;01min\u001b[39;00m all_sources:\n\u001b[32m    755\u001b[39m     \u001b[38;5;28;01mif\u001b[39;00m source \u001b[38;5;129;01mnot\u001b[39;00m \u001b[38;5;129;01min\u001b[39;00m \u001b[38;5;28mself\u001b[39m.nodes \u001b[38;5;129;01mand\u001b[39;00m source != START:\n\u001b[32m--> \u001b[39m\u001b[32m756\u001b[39m         \u001b[38;5;28;01mraise\u001b[39;00m \u001b[38;5;167;01mValueError\u001b[39;00m(\u001b[33mf\u001b[39m\u001b[33m\"\u001b[39m\u001b[33mFound edge starting at unknown node \u001b[39m\u001b[33m'\u001b[39m\u001b[38;5;132;01m{\u001b[39;00msource\u001b[38;5;132;01m}\u001b[39;00m\u001b[33m'\u001b[39m\u001b[33m\"\u001b[39m)\n\u001b[32m    758\u001b[39m \u001b[38;5;28;01mif\u001b[39;00m START \u001b[38;5;129;01mnot\u001b[39;00m \u001b[38;5;129;01min\u001b[39;00m all_sources:\n\u001b[32m    759\u001b[39m     \u001b[38;5;28;01mraise\u001b[39;00m \u001b[38;5;167;01mValueError\u001b[39;00m(\n\u001b[32m    760\u001b[39m         \u001b[33m\"\u001b[39m\u001b[33mGraph must have an entrypoint: add at least one edge from START to another node\u001b[39m\u001b[33m\"\u001b[39m\n\u001b[32m    761\u001b[39m     )\n",
      "\u001b[31mValueError\u001b[39m: Found edge starting at unknown node 'repated_roots'"
     ]
    }
   ],
   "source": [
    "# Create Graph\n",
    "\n",
    "graph = StateGraph(QuadState)\n",
    "\n",
    "# add nodes\n",
    "\n",
    "graph.add_node(\"show_equation\",show_equation)\n",
    "graph.add_node(\"calculate_discriment\",calculate_discriment)\n",
    "graph.add_node(\"real_roots\",real_roots)\n",
    "graph.add_node(\"repated_roots\",repated_roots)\n",
    "graph.add_node(\"no_real_root\",no_real_root)\n",
    "\n",
    "# connecting edges\n",
    "\n",
    "graph.add_edge(START,\"show_equation\")\n",
    "graph.add_edge(\"show_equation\",\"calculate_discriment\")\n",
    "graph.add_conditional_edges(\"calculate_discriment\",check_condition)\n",
    "graph.add_edge(\"real_roots\",END)\n",
    "graph.add_edge(\"repated_roots\",END)\n",
    "graph.add_edge(\"no_real_root\",END)\n",
    "\n",
    "# compiling\n",
    "\n",
    "workflow = graph.compile()"
   ]
  },
  {
   "cell_type": "code",
   "execution_count": null,
   "id": "b5b27dc0",
   "metadata": {},
   "outputs": [],
   "source": [
    "initial_state = {'a':3,'b':5,'c':4}\n",
    "\n",
    "final_result = workflow.invoke(initial_state)\n",
    "\n",
    "print(final_result)"
   ]
  },
  {
   "cell_type": "code",
   "execution_count": null,
   "id": "ab754ba4",
   "metadata": {},
   "outputs": [],
   "source": [
    "from IPython.display import Image\n",
    "\n",
    "Image(workflow.get_graph().draw_mermaid_png())"
   ]
  }
 ],
 "metadata": {
  "kernelspec": {
   "display_name": ".venv",
   "language": "python",
   "name": "python3"
  },
  "language_info": {
   "codemirror_mode": {
    "name": "ipython",
    "version": 3
   },
   "file_extension": ".py",
   "mimetype": "text/x-python",
   "name": "python",
   "nbconvert_exporter": "python",
   "pygments_lexer": "ipython3",
   "version": "3.13.5"
  }
 },
 "nbformat": 4,
 "nbformat_minor": 5
}
