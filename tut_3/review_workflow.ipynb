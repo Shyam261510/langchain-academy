{
 "cells": [
  {
   "cell_type": "code",
   "execution_count": 47,
   "id": "c63c5464",
   "metadata": {},
   "outputs": [],
   "source": [
    "from langgraph.graph import StateGraph , START , END\n",
    "from dotenv import load_dotenv\n",
    "from langchain_openai import ChatOpenAI\n",
    "from typing import TypedDict , Literal\n",
    "from pydantic import BaseModel , Field \n",
    "import os"
   ]
  },
  {
   "cell_type": "code",
   "execution_count": 48,
   "id": "06e28d5f",
   "metadata": {},
   "outputs": [],
   "source": [
    "load_dotenv()\n",
    "\n",
    "api_key = os.getenv(\"OPENAI_API_KEY\")"
   ]
  },
  {
   "cell_type": "code",
   "execution_count": 49,
   "id": "84ebaa13",
   "metadata": {},
   "outputs": [],
   "source": [
    "model = ChatOpenAI(api_key=api_key,model=\"gpt-4o-mini\")"
   ]
  },
  {
   "cell_type": "code",
   "execution_count": 50,
   "id": "9d7c1187",
   "metadata": {},
   "outputs": [],
   "source": [
    "class SentimentSchema(BaseModel):\n",
    "    sentiment :Literal[\"positive\",\"negative\"] = Field(description=\"Sentiment of the review\")"
   ]
  },
  {
   "cell_type": "code",
   "execution_count": 51,
   "id": "4e96ced3",
   "metadata": {},
   "outputs": [],
   "source": [
    "class DiagnoseState(BaseModel):\n",
    "    issue_type:Literal[\"UX\",\"Performance\",\"Bug\",\"Support\",\"Other\"] = Field(description=\"The category of the issue mention in the review\")\n",
    "    tone:Literal[\"angery\",\"frustration\",\"disappointment\",\"calm\"] = Field(description=\"The emotional feelings expressed by the user\")\n",
    "    urgency:Literal[\"Low\",\"Medium\",\"High\"] = Field(description=\"How the issue is crytical ?\")"
   ]
  },
  {
   "cell_type": "code",
   "execution_count": 52,
   "id": "59888268",
   "metadata": {},
   "outputs": [],
   "source": [
    "structure_model = model.with_structured_output(SentimentSchema)\n",
    "diagnose_model = model.with_structured_output(DiagnoseState)"
   ]
  },
  {
   "cell_type": "code",
   "execution_count": 53,
   "id": "6ab4b8a3",
   "metadata": {},
   "outputs": [],
   "source": [
    "class ReviewState(TypedDict):\n",
    "    review:str\n",
    "    sentiment:str\n",
    "    diagnose:dict\n",
    "    response:str"
   ]
  },
  {
   "cell_type": "code",
   "execution_count": 54,
   "id": "93eadd37",
   "metadata": {},
   "outputs": [],
   "source": [
    "def find_sentiment(state:ReviewState):\n",
    "    review = state['review']\n",
    "\n",
    "    prompt = f\"You are the helpfull assistant and you have the expertise to find the sentiment on the following \\n{review}\"\n",
    "\n",
    "    sentiment = structure_model.invoke(prompt)\n",
    "    \n",
    "    return {\"sentiment\":sentiment}"
   ]
  },
  {
   "cell_type": "code",
   "execution_count": 55,
   "id": "6835cd2c",
   "metadata": {},
   "outputs": [],
   "source": [
    "def diagnorse_review(state:ReviewState):\n",
    "\n",
    "    review = state['review']\n",
    "\n",
    "    prompt = f\"You have given a negative review and you have to analyze three major following thing from the \\n {review}. \\n Following things are \\n issue_type , tone and urgency on the review\"\n",
    "    \n",
    "    diagnose = diagnose_model.invoke(prompt)\n",
    "\n",
    "    return {\"diagnose\":diagnose.model_dump()}"
   ]
  },
  {
   "cell_type": "code",
   "execution_count": 56,
   "id": "bbb1d492",
   "metadata": {},
   "outputs": [],
   "source": [
    "def generate_postive_response(state:ReviewState):\n",
    "    \n",
    "    review = state['review']\n",
    "    \n",
    "\n",
    "    prompt = f\"You are the help assistant who have the expertise to generate the positive response based on the following review \\n {review}\"\n",
    "\n",
    "    response = model.invoke(prompt)\n",
    "\n",
    "    return {\"response\":response}"
   ]
  },
  {
   "cell_type": "code",
   "execution_count": 57,
   "id": "ad389a6c",
   "metadata": {},
   "outputs": [],
   "source": [
    "def generate_negative_response(state:ReviewState):\n",
    "    \n",
    "    diagnose = state['diagnose']\n",
    "\n",
    "    issue_type = diagnose['issue_type']\n",
    "    tone = diagnose['tone']\n",
    "    urgency = diagnose['urgency']\n",
    "    \n",
    "\n",
    "    prompt = f\"\"\"\n",
    "    You are the help assistant \\n \n",
    "    who have the expertise to generate the negative \n",
    "    response and user had a {issue_type} issue , sounded {tone} and mark urgency {urgency} write a empathic , helpful resolution message on the following diagnose \\n {diagnose}\"\"\"\n",
    "\n",
    "    response = model.invoke(prompt)\n",
    "\n",
    "    return {\"response\":response}"
   ]
  },
  {
   "cell_type": "code",
   "execution_count": null,
   "id": "d4e039c0",
   "metadata": {},
   "outputs": [],
   "source": [
    "def check_sentiment(state: ReviewState) -> Literal[\"diagnorse_review\", \"generate_postive_response\"]:\n",
    "    sentiment = state['sentiment'].sentiment\n",
    "  \n",
    "    if sentiment == \"positive\":\n",
    "        print(\"Sentiment in Postive\")\n",
    "        return \"generate_postive_response\"\n",
    "    print(\"Sentiment is negative\")\n",
    "    return \"diagnorse_review\"\n"
   ]
  },
  {
   "cell_type": "code",
   "execution_count": 59,
   "id": "7b724502",
   "metadata": {},
   "outputs": [
    {
     "data": {
      "text/plain": [
       "<langgraph.graph.state.StateGraph at 0x26bff0362c0>"
      ]
     },
     "execution_count": 59,
     "metadata": {},
     "output_type": "execute_result"
    }
   ],
   "source": [
    "# creating graph\n",
    "\n",
    "graph = StateGraph(ReviewState)\n",
    "\n",
    "# add nodes\n",
    "\n",
    "graph.add_node(\"find_sentiment\",find_sentiment)\n",
    "graph.add_node(\"diagnorse_review\",diagnorse_review)\n",
    "graph.add_node(\"generate_postive_response\",generate_postive_response)\n",
    "graph.add_node(\"generate_negative_response\",generate_negative_response)\n",
    "\n",
    "# add edges\n",
    "\n",
    "graph.add_edge(START,\"find_sentiment\")\n",
    "graph.add_conditional_edges(\"find_sentiment\",check_sentiment)\n",
    "graph.add_edge(\"generate_postive_response\",END)\n",
    "graph.add_edge(\"diagnorse_review\",\"generate_negative_response\")\n",
    "graph.add_edge(\"generate_negative_response\",END)"
   ]
  },
  {
   "cell_type": "code",
   "execution_count": 60,
   "id": "4b884a44",
   "metadata": {},
   "outputs": [],
   "source": [
    "# Creating workflow \n",
    "\n",
    "workflow = graph.compile()"
   ]
  },
  {
   "cell_type": "code",
   "execution_count": 61,
   "id": "8ee75e78",
   "metadata": {},
   "outputs": [
    {
     "data": {
      "image/png": "[encoded data removed]",
      "text/plain": [
       "<IPython.core.display.Image object>"
      ]
     },
     "execution_count": 61,
     "metadata": {},
     "output_type": "execute_result"
    }
   ],
   "source": [
    "from IPython.display import Image\n",
    "\n",
    "Image(workflow.get_graph().draw_mermaid_png())"
   ]
  },
  {
   "cell_type": "code",
   "execution_count": 62,
   "id": "b02b7e12",
   "metadata": {},
   "outputs": [
    {
     "name": "stdout",
     "output_type": "stream",
     "text": [
      "positive\n",
      "Sentiment is negative\n",
      "--sentiment--\n",
      "sentiment='positive'\n",
      "--diagnose--\n",
      "{'issue_type': 'Performance', 'tone': 'calm', 'urgency': 'Low'}\n",
      "--response--\n",
      "content=\"Subject: We're Here to Help with Your Performance Issue\\n\\nDear [User's Name],\\n\\nThank you for reaching out regarding the performance issue you’re experiencing. We understand how frustrating it can be when things aren't functioning as smoothly as expected, and we appreciate your patience as we work together to get this resolved.\\n\\nTo assist you better, could you please provide a bit more detail about the specific performance issues you’ve been encountering? Any information on when these issues occur or what tasks seem to be affected would be immensely helpful.\\n\\nIn the meantime, here are a few general steps you might consider trying to improve performance:\\n\\n1. **Clear Cache:** Sometimes, clearing the cache of your application can help improve responsiveness.\\n2. **Close Unused Applications:** Closing down any unnecessary applications can free up system resources.\\n3. **Restart Your Device:** A simple restart may also help refresh the system and resolve minor performance glitches.\\n\\nPlease feel free to reach out with any additional details or questions you may have. We’re here to support you, and together we can find a solution.\\n\\nTake care,\\n\\n[Your Name]  \\n[Your Position]  \\n[Your Contact Information]  \" additional_kwargs={'refusal': None} response_metadata={'token_usage': {'completion_tokens': 230, 'prompt_tokens': 74, 'total_tokens': 304, 'completion_tokens_details': {'accepted_prediction_tokens': 0, 'audio_tokens': 0, 'reasoning_tokens': 0, 'rejected_prediction_tokens': 0}, 'prompt_tokens_details': {'audio_tokens': 0, 'cached_tokens': 0}}, 'model_name': 'gpt-4o-mini-2024-07-18', 'system_fingerprint': 'fp_8bda4d3a2c', 'id': 'chatcmpl-CAhwmF961kpowuzrbo5L6yXhqyZK8', 'service_tier': 'default', 'finish_reason': 'stop', 'logprobs': None} id='run--8eb459cc-ac7d-4111-8b81-d500ac46160a-0' usage_metadata={'input_tokens': 74, 'output_tokens': 230, 'total_tokens': 304, 'input_token_details': {'audio': 0, 'cache_read': 0}, 'output_token_details': {'audio': 0, 'reasoning': 0}}\n"
     ]
    }
   ],
   "source": [
    "inital_prompt = {\"review\":\"I’m genuinely impressed with the performance of this platform! Pages load almost instantly, and even heavy tasks are handled smoothly without any lag. The optimization is top-notch, which makes the overall experience seamless and efficient. Kudos to the team for putting so much effort into speed and stability — it’s truly a game-changer! 🔥\"}\n",
    "\n",
    "final_result = workflow.invoke(inital_prompt)\n",
    "\n",
    "print(\"--sentiment--\")\n",
    "\n",
    "print(final_result['sentiment'])\n",
    "\n",
    "print(\"--diagnose--\")\n",
    "\n",
    "print(final_result.get(\"diagnose\",\"\"))\n",
    "\n",
    "print(\"--response--\")\n",
    "\n",
    "print(final_result['response'])\n",
    "\n",
    "\n"
   ]
  }
 ],
 "metadata": {
  "kernelspec": {
   "display_name": ".venv",
   "language": "python",
   "name": "python3"
  },
  "language_info": {
   "codemirror_mode": {
    "name": "ipython",
    "version": 3
   },
   "file_extension": ".py",
   "mimetype": "text/x-python",
   "name": "python",
   "nbconvert_exporter": "python",
   "pygments_lexer": "ipython3",
   "version": "3.13.5"
  }
 },
 "nbformat": 4,
 "nbformat_minor": 5
}
