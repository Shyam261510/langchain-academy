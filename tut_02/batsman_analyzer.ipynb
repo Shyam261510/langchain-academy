{
 "cells": [
  {
   "cell_type": "code",
   "execution_count": 1,
   "id": "3783fcec",
   "metadata": {},
   "outputs": [],
   "source": [
    "from langgraph.graph import StateGraph, START,END\n",
    "from typing import TypedDict"
   ]
  },
  {
   "cell_type": "code",
   "execution_count": 2,
   "id": "628949cd",
   "metadata": {},
   "outputs": [],
   "source": [
    "class BatmanState(TypedDict):\n",
    "    run : int\n",
    "    balls: int\n",
    "    fours:int\n",
    "    sixes: int\n",
    "\n",
    "    sr :float # Strike Rate\n",
    "    bpb:float # boundary per ball\n",
    "    boundary_percentage:float\n",
    "    summary:str"
   ]
  },
  {
   "cell_type": "code",
   "execution_count": 3,
   "id": "b2b1ee77",
   "metadata": {},
   "outputs": [],
   "source": [
    "def calculate_str(state:BatmanState):\n",
    "    \"calculating strike rate\"\n",
    "    balls = state['balls']\n",
    "    runs = state['run']\n",
    "    sr = (runs/balls) * 100\n",
    "    state['sr'] = sr\n",
    "\n",
    "    return {\"sr\":sr}"
   ]
  },
  {
   "cell_type": "code",
   "execution_count": 4,
   "id": "1dafca2f",
   "metadata": {},
   "outputs": [],
   "source": [
    "def calculate_bpb(state:BatmanState):\n",
    "    \"calculating Boundary per ball\"\n",
    "    balls = state['balls']\n",
    "    fours = state['fours']\n",
    "    sixes = state['sixes']\n",
    "\n",
    "    bpb = balls / (fours + sixes)\n",
    "\n",
    "    state['bpb'] = bpb\n",
    "\n",
    "    return {\"bpb\":bpb}\n",
    "\n"
   ]
  },
  {
   "cell_type": "code",
   "execution_count": 5,
   "id": "b08892f5",
   "metadata": {},
   "outputs": [],
   "source": [
    "def calculate_boundary_percentage(state:BatmanState):\n",
    "    \"Calculate Boundary percentage\"\n",
    "    runs = state['run']\n",
    "    fours = state['fours']\n",
    "    sixes = state['sixes']\n",
    "\n",
    "    boudary_percentage = (((fours * 4) + (sixes * 6))/runs) * 100\n",
    "\n",
    "    state['boundary_percentage'] = boudary_percentage\n",
    "\n",
    "    return {\"boundary_percentage\":boudary_percentage}\n",
    "    "
   ]
  },
  {
   "cell_type": "code",
   "execution_count": 6,
   "id": "29e66eeb",
   "metadata": {},
   "outputs": [],
   "source": [
    "def summary(state:BatmanState):\n",
    "    \"Creating summary\"\n",
    "    summary = f\"\"\"\n",
    "    Strike Rate - {state['sr']} \\n\n",
    "    BPB - {state['bpb']} \\n\n",
    "    Boundary Percentage - {state['boundary_percentage']}\n",
    "\"\"\"\n",
    "    state['summary'] = summary\n",
    "\n",
    "    return {\"summary\":summary}\n",
    "    "
   ]
  },
  {
   "cell_type": "code",
   "execution_count": 7,
   "id": "830b24c0",
   "metadata": {},
   "outputs": [
    {
     "data": {
      "text/plain": [
       "<langgraph.graph.state.StateGraph at 0x1df00a65af0>"
      ]
     },
     "execution_count": 7,
     "metadata": {},
     "output_type": "execute_result"
    }
   ],
   "source": [
    "# create graph\n",
    "\n",
    "graph = StateGraph(BatmanState)\n",
    " # add nodes\n",
    "graph.add_node(\"calculate_str\",calculate_str)\n",
    "graph.add_node(\"calculate_bpb\",calculate_bpb)\n",
    "graph.add_node(\"calculate_boundary_percentage\",calculate_boundary_percentage)\n",
    "graph.add_node(\"summary\",summary)\n",
    "\n",
    "# add edges\n",
    "\n",
    "graph.add_edge(START,\"calculate_str\")\n",
    "graph.add_edge(START,\"calculate_bpb\")\n",
    "graph.add_edge(START,\"calculate_boundary_percentage\")\n",
    "## Parrel workflow\n",
    "graph.add_edge(\"calculate_str\",\"summary\")\n",
    "graph.add_edge(\"calculate_bpb\",\"summary\")\n",
    "graph.add_edge(\"calculate_boundary_percentage\",\"summary\")\n",
    "\n",
    "graph.add_edge(\"summary\",END)\n",
    "\n",
    "\n"
   ]
  },
  {
   "cell_type": "code",
   "execution_count": 8,
   "id": "ae1f1b1b",
   "metadata": {},
   "outputs": [
    {
     "name": "stdout",
     "output_type": "stream",
     "text": [
      "{'run': 100, 'balls': 50, 'fours': 10, 'sixes': 10, 'sr': 200.0, 'bpb': 2.5, 'boundary_percentage': 100.0, 'summary': '\\n    Strike Rate - 200.0 \\n\\n    BPB - 2.5 \\n\\n    Boundary Percentage - 100.0\\n'}\n"
     ]
    }
   ],
   "source": [
    "# compiling workflow\n",
    "\n",
    "workflow = graph.compile()\n",
    "\n",
    "initial_state = {\"run\":100,\"balls\":50,\"fours\":10,\"sixes\":10}\n",
    "\n",
    "final_result = workflow.invoke(initial_state)\n",
    "\n",
    "print(final_result)"
   ]
  },
  {
   "cell_type": "code",
   "execution_count": 9,
   "id": "9da8eed7",
   "metadata": {},
   "outputs": [
    {
     "data": {
      "image/png": "[encoded data removed]",
      "text/plain": [
       "<IPython.core.display.Image object>"
      ]
     },
     "execution_count": 9,
     "metadata": {},
     "output_type": "execute_result"
    }
   ],
   "source": [
    "from IPython.display import Image\n",
    "\n",
    "Image(workflow.get_graph().draw_mermaid_png())"
   ]
  }
 ],
 "metadata": {
  "kernelspec": {
   "display_name": ".venv",
   "language": "python",
   "name": "python3"
  },
  "language_info": {
   "codemirror_mode": {
    "name": "ipython",
    "version": 3
   },
   "file_extension": ".py",
   "mimetype": "text/x-python",
   "name": "python",
   "nbconvert_exporter": "python",
   "pygments_lexer": "ipython3",
   "version": "3.12.6"
  }
 },
 "nbformat": 4,
 "nbformat_minor": 5
}
