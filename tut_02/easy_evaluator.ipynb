{
 "cells": [
  {
   "cell_type": "code",
   "execution_count": 115,
   "id": "325691b6",
   "metadata": {},
   "outputs": [],
   "source": [
    "from langgraph.graph import StateGraph , START,END\n",
    "from langchain_google_genai import ChatGoogleGenerativeAI\n",
    "from dotenv import load_dotenv\n",
    "from typing import TypedDict,Annotated\n",
    "from operator import add\n",
    "from pydantic import BaseModel, Field\n",
    "import os"
   ]
  },
  {
   "cell_type": "code",
   "execution_count": 116,
   "id": "faadb8aa",
   "metadata": {},
   "outputs": [],
   "source": [
    "load_dotenv()\n",
    "\n",
    "api_key = os.getenv(\"GOOGLE_API_KEY\")"
   ]
  },
  {
   "cell_type": "code",
   "execution_count": 117,
   "id": "6a88933e",
   "metadata": {},
   "outputs": [],
   "source": [
    "# creating model\n",
    "model = ChatGoogleGenerativeAI(api_key=api_key,model=\"gemini-2.5-flash\")\n"
   ]
  },
  {
   "cell_type": "code",
   "execution_count": 118,
   "id": "06b9d440",
   "metadata": {},
   "outputs": [],
   "source": [
    "class EvaluationSchema(BaseModel):\n",
    "    \n",
    "    feedback:str = Field(description=\"Detailed feedback for the essay\")\n",
    "    score:int = Field(description=\"Score out of 10\", gt=0, lt=10)"
   ]
  },
  {
   "cell_type": "code",
   "execution_count": 119,
   "id": "2d6209b0",
   "metadata": {},
   "outputs": [],
   "source": [
    "class EassyEvaluator(TypedDict):\n",
    "    eassy:str\n",
    "    language_feedback:str\n",
    "    analysis_feedback:str\n",
    "    clarity_feedback:str\n",
    "    overall_feedback:str\n",
    "    individual_scores:Annotated[list[int],add]\n",
    "    average_scores:float"
   ]
  },
  {
   "cell_type": "code",
   "execution_count": 120,
   "id": "6792256a",
   "metadata": {},
   "outputs": [],
   "source": [
    "## Creating Structure model\n",
    "structured_model = model.with_structured_output(EvaluationSchema)\n"
   ]
  },
  {
   "cell_type": "code",
   "execution_count": 121,
   "id": "094ef67e",
   "metadata": {},
   "outputs": [],
   "source": [
    "def language_analyzer(state:EassyEvaluator):\n",
    "    \"analyze the language of the essay\"\n",
    "    essay = state['eassy']\n",
    "    prompt = f'Evaluate the language quality of following essay and provide a feedback and assign a score \\n {essay}'\n",
    "\n",
    "    output = structured_model.invoke(prompt)\n",
    "\n",
    "    feedBack = output.feedback\n",
    "    score = output.score\n",
    "    return {\"language_feedback\":feedBack,\"individual_scores\":[score]}"
   ]
  },
  {
   "cell_type": "code",
   "execution_count": 122,
   "id": "7001b850",
   "metadata": {},
   "outputs": [],
   "source": [
    "def deapth_analyzer(state:EassyEvaluator):\n",
    "    \"analyze the deapth of essay\"\n",
    "    essay = state['eassy']\n",
    "    prompt = f'Analyze the of following essay find out the deapth and provide a feedback and assign a score \\n {essay}'\n",
    "\n",
    "    output = structured_model.invoke(prompt)\n",
    "\n",
    "    feedBack = output.feedback\n",
    "    score = output.score\n",
    "    return {\"analysis_feedback\":feedBack,\"individual_scores\":[score]}"
   ]
  },
  {
   "cell_type": "code",
   "execution_count": 123,
   "id": "9bd5576e",
   "metadata": {},
   "outputs": [],
   "source": [
    "def clearity_analyzer(state:EassyEvaluator):\n",
    "    \"analyze the deapth of easy\"\n",
    "    essay = state['eassy']\n",
    "    prompt = f'Analyze the of following essay find out the clearity and provide a feedback and assign a score \\n {essay}'\n",
    "\n",
    "    output = structured_model.invoke(prompt)\n",
    "\n",
    "    feedBack = output.feedback\n",
    "    score = output.score\n",
    "    return {\"clarity_feedback\":feedBack,\"individual_scores\":[score]}"
   ]
  },
  {
   "cell_type": "code",
   "execution_count": 124,
   "id": "0dfb6511",
   "metadata": {},
   "outputs": [],
   "source": [
    "def overall_feedback(state:EassyEvaluator):\n",
    "    \"Analyze the whole eassy and give overall feedback\"\n",
    "    essay = state['eassy']\n",
    "    prompt = f'Analyze whole essay and give over all feedback on the following essay \\n {essay}'\n",
    "    output = structured_model.invoke(prompt)\n",
    "    feedBack = output.feedback\n",
    "    return {\"overall_feedback\":feedBack}"
   ]
  },
  {
   "cell_type": "code",
   "execution_count": 125,
   "id": "f7058e3f",
   "metadata": {},
   "outputs": [],
   "source": [
    "def calculate_average_scores(state:EassyEvaluator):\n",
    "    \"Calculate the average the total scores\"\n",
    "    individual_scores = state['individual_scores']\n",
    "    average_score = sum(individual_scores) / len(individual_scores)\n",
    "\n",
    "    state['average_scores'] = average_score\n",
    "    \n",
    "    return {\"average_scores\":average_score}"
   ]
  },
  {
   "cell_type": "code",
   "execution_count": 126,
   "id": "556a7578",
   "metadata": {},
   "outputs": [],
   "source": [
    "# Creating graph\n",
    "\n",
    "graph = StateGraph(EassyEvaluator)\n",
    "\n",
    "# adding nodes\n",
    "\n",
    "graph.add_node(\"language_analyzer\",language_analyzer)\n",
    "graph.add_node(\"deapth_analyzer\",deapth_analyzer)\n",
    "graph.add_node(\"clearity_analyzer\",clearity_analyzer)\n",
    "graph.add_node(\"overall_feedback\",overall_feedback)\n",
    "graph.add_node(\"calculate_average_scores\",calculate_average_scores)\n",
    "\n",
    "# creating edges\n",
    "\n",
    "graph.add_edge(START,\"language_analyzer\")\n",
    "graph.add_edge(START,\"deapth_analyzer\")\n",
    "graph.add_edge(START,\"clearity_analyzer\")\n",
    "graph.add_edge(START,\"overall_feedback\")\n",
    "\n",
    "graph.add_edge(\"language_analyzer\",\"calculate_average_scores\")\n",
    "graph.add_edge(\"deapth_analyzer\",\"calculate_average_scores\")\n",
    "graph.add_edge(\"clearity_analyzer\",\"calculate_average_scores\")\n",
    "\n",
    "graph.add_edge(\"calculate_average_scores\",END)\n",
    "\n",
    "# Creating workflow\n",
    "\n",
    "workflow = graph.compile()"
   ]
  },
  {
   "cell_type": "code",
   "execution_count": 127,
   "id": "96552306",
   "metadata": {},
   "outputs": [
    {
     "data": {
      "image/png": "[encoded data removed]",
      "text/plain": [
       "<IPython.core.display.Image object>"
      ]
     },
     "execution_count": 127,
     "metadata": {},
     "output_type": "execute_result"
    }
   ],
   "source": [
    "from IPython.display import Image\n",
    "\n",
    "Image(workflow.get_graph().draw_mermaid_png())"
   ]
  },
  {
   "cell_type": "code",
   "execution_count": null,
   "id": "5b7190e4",
   "metadata": {},
   "outputs": [
    {
     "name": "stderr",
     "output_type": "stream",
     "text": [
      "Retrying langchain_google_genai.chat_models._chat_with_retry.<locals>._chat_with_retry in 2.0 seconds as it raised InternalServerError: 500 An internal error has occurred. Please retry or report in https://developers.generativeai.google/guide/troubleshooting.\n"
     ]
    },
    {
     "name": "stdout",
     "output_type": "stream",
     "text": [
      "--clearity Feedback--\n"
     ]
    },
    {
     "ename": "AttributeError",
     "evalue": "'dict' object has no attribute 'clarity_feedback'",
     "output_type": "error",
     "traceback": [
      "\u001b[31m---------------------------------------------------------------------------\u001b[39m",
      "\u001b[31mAttributeError\u001b[39m                            Traceback (most recent call last)",
      "\u001b[36mCell\u001b[39m\u001b[36m \u001b[39m\u001b[32mIn[129]\u001b[39m\u001b[32m, line 43\u001b[39m\n\u001b[32m     33\u001b[39m \u001b[38;5;66;03m# print(\"--Language Feedback--\")\u001b[39;00m\n\u001b[32m     34\u001b[39m \n\u001b[32m     35\u001b[39m \u001b[38;5;66;03m# print(final_result.language_feedback)\u001b[39;00m\n\u001b[32m   (...)\u001b[39m\u001b[32m     38\u001b[39m \n\u001b[32m     39\u001b[39m \u001b[38;5;66;03m# print(final_result.analysis_feedback)\u001b[39;00m\n\u001b[32m     41\u001b[39m \u001b[38;5;28mprint\u001b[39m(\u001b[33m\"\u001b[39m\u001b[33m--clearity Feedback--\u001b[39m\u001b[33m\"\u001b[39m)\n\u001b[32m---> \u001b[39m\u001b[32m43\u001b[39m \u001b[38;5;28mprint\u001b[39m(\u001b[43mfinal_result\u001b[49m\u001b[43m.\u001b[49m\u001b[43mclarity_feedback\u001b[49m)\n\u001b[32m     45\u001b[39m \u001b[38;5;66;03m# print(\"--overall Feedback--\")\u001b[39;00m\n\u001b[32m     46\u001b[39m \n\u001b[32m     47\u001b[39m \u001b[38;5;66;03m# print(final_result.overall_feedback)\u001b[39;00m\n\u001b[32m   (...)\u001b[39m\u001b[32m     54\u001b[39m \n\u001b[32m     55\u001b[39m \u001b[38;5;66;03m# print(final_result.average_scores)\u001b[39;00m\n",
      "\u001b[31mAttributeError\u001b[39m: 'dict' object has no attribute 'clarity_feedback'"
     ]
    }
   ],
   "source": [
    "eassy = \"\"\"\n",
    "Love is one of the most powerful forces in human life. It has the ability to transform people in ways they never imagined. For a boy, love often acts as the bridge between innocence and maturity, guiding him toward growth, responsibility, and emotional depth. This journey, often subtle yet profound, marks the transformation from being a boy to becoming a man.\n",
    "\n",
    "1. Love Teaches Responsibility\n",
    "\n",
    "A boy often lives for himself, with little awareness of the consequences of his actions. But when he falls in love, he begins to think beyond his own needs. Suddenly, there is someone else whose happiness and well-being matter deeply. This sense of responsibility — wanting to protect, support, and provide — pushes him to make better choices, work harder, and think about the future. It is through this sense of duty that he starts stepping into the role of a man.\n",
    "\n",
    "2. Love Brings Emotional Maturity\n",
    "\n",
    "Love teaches a boy how to handle emotions with grace. At first, he may not understand the weight of emotions like patience, trust, or forgiveness. But love demands that he learn. Disagreements, challenges, and sacrifices teach him that relationships thrive on understanding and compromise. Over time, this emotional growth molds him into a man capable of empathy and wisdom.\n",
    "\n",
    "3. Love Inspires Self-Discovery\n",
    "\n",
    "Through love, a boy often learns who he truly is. The way he reacts to affection, loyalty, pain, and even heartbreak shapes his character. He begins to understand his strengths and weaknesses, his ambitions and fears. This self-awareness, born from the experiences of love, helps him evolve from a carefree youth into a man grounded in self-knowledge.\n",
    "\n",
    "4. Love Cultivates Strength and Resilience\n",
    "\n",
    "Love isn’t always easy; it often comes with challenges and even heartbreak. These experiences teach a boy how to stand firm, fight for what matters, and, when necessary, let go gracefully. This resilience — the ability to endure pain and still remain hopeful — is one of the most significant signs of manhood. True strength lies in loving deeply, even when it demands courage and vulnerability.\n",
    "\n",
    "5. Love Encourages Growth and Ambition\n",
    "\n",
    "A boy in love often finds new motivation. He strives to be better, to build a stable life, and to create a future where his loved one can thrive alongside him. This drive to grow and succeed is not just for himself anymore; it stems from the desire to share his accomplishments with someone special. Such ambition and determination are marks of maturity that define a man.\n",
    "\n",
    "Conclusion\n",
    "\n",
    "Love is not merely an emotion; it is a transformative force. It teaches lessons that no classroom can provide — responsibility, emotional depth, resilience, and selflessness. In the process, it shapes a boy into a man, guiding him to embrace maturity, strength, and purpose. In the end, love does more than change him; it elevates him, preparing him to not only live for himself but also to cherish, protect, and nurture others with a depth of heart that defines true manhood.\n",
    "\"\"\"\n",
    "inital_state = {\"eassy\":eassy}\n",
    "\n",
    "final_result = workflow.invoke(inital_state)\n",
    "\n",
    "print(final_result)\n",
    "\n",
    "# print(\"--Language Feedback--\")\n",
    "\n",
    "# print(final_result.language_feedback)\n",
    "\n",
    "# print(\"--Deapth Feedback--\")\n",
    "\n",
    "# print(final_result.analysis_feedback)\n",
    "\n",
    "# print(\"--clearity Feedback--\")\n",
    "\n",
    "# print(final_result.clarity_feedback)\n",
    "\n",
    "# print(\"--overall Feedback--\")\n",
    "\n",
    "# print(final_result.overall_feedback)\n",
    "\n",
    "# print(\"--individual Scores--\")\n",
    "\n",
    "# print(final_result.individual_scores)\n",
    "\n",
    "# print(\"---Average Scores---\")\n",
    "\n",
    "# print(final_result.average_scores)\n"
   ]
  }
 ],
 "metadata": {
  "kernelspec": {
   "display_name": ".venv",
   "language": "python",
   "name": "python3"
  },
  "language_info": {
   "codemirror_mode": {
    "name": "ipython",
    "version": 3
   },
   "file_extension": ".py",
   "mimetype": "text/x-python",
   "name": "python",
   "nbconvert_exporter": "python",
   "pygments_lexer": "ipython3",
   "version": "3.12.6"
  }
 },
 "nbformat": 4,
 "nbformat_minor": 5
}
